{
 "cells": [
  {
   "cell_type": "code",
   "execution_count": 159,
   "id": "728d192d-1950-45cc-b007-b054fec12cee",
   "metadata": {},
   "outputs": [],
   "source": [
    "import pandas as pd\n",
    "import geopandas as gpd\n",
    "import shapely as sp"
   ]
  },
  {
   "cell_type": "markdown",
   "id": "cf35b8f7-0d1c-42f8-a4e7-58d4b580f647",
   "metadata": {},
   "source": [
    "# Config"
   ]
  },
  {
   "cell_type": "code",
   "execution_count": 160,
   "id": "dd0d8eb7-d0a3-4327-9520-9b31ed2c0e7e",
   "metadata": {},
   "outputs": [],
   "source": [
    "# true leading and trailing edge datasets\n",
    "lead = pd.read_excel('edge_data_for_christian.xlsx')\n",
    "trail = pd.read_excel('trailing_edge_data_for_christian.xlsx')"
   ]
  },
  {
   "cell_type": "code",
   "execution_count": 161,
   "id": "29cf04ee-6652-456d-9d72-5d38eb2bfec0",
   "metadata": {},
   "outputs": [],
   "source": [
    "trail['estimated_2019'] = trail.intercept + 2019 * trail.slope\n",
    "lead['estimated_2019'] = lead.intercept + 2019 * lead.slope\n",
    "\n",
    "trail = trail.loc[trail.end_year >= 2014].reset_index(drop = True)\n",
    "lead = lead.loc[lead.end_year >= 2014].reset_index(drop = True)\n",
    "\n",
    "# obtain all fish scientific names for species we have Aquamaps data for\n",
    "fishnames = pd.read_csv('species_lists/fish_fullnames.csv')\n",
    "missing = pd.read_csv('species_lists/missing_species.csv')\n",
    "\n",
    "missing['sci_name'] = [f\"{missing.genus[i]} {missing.species[i]}\" for i in range(len(missing))]\n",
    "fishnames['sci_name'] = [f\"{fishnames.genus[i]} {fishnames.species[i]}\" for i in range(len(fishnames))]\n",
    "f = fishnames.loc[~fishnames.sci_name.isin(missing.sci_name)].reset_index(drop = True)\n",
    "\n",
    "# restrict dataframes trail and head to only include fish listed in f\n",
    "trail = trail.loc[trail.accepted_name.isin(f.sci_name)].reset_index(drop = True)\n",
    "lead = lead.loc[lead.accepted_name.isin(f.sci_name)].reset_index(drop = True)\n",
    "\n",
    "trail['most_recent'] = trail.intercept + trail.end_year * trail.slope\n",
    "lead['most_recent'] = lead.intercept + lead.end_year * lead.slope"
   ]
  },
  {
   "cell_type": "code",
   "execution_count": 162,
   "id": "ca3090ec-0856-4511-a0e3-48eb82e57a46",
   "metadata": {},
   "outputs": [
    {
     "data": {
      "text/plain": [
       "(1746, 1720)"
      ]
     },
     "execution_count": 162,
     "metadata": {},
     "output_type": "execute_result"
    }
   ],
   "source": [
    "len(lead), len(trail)"
   ]
  },
  {
   "cell_type": "code",
   "execution_count": 163,
   "id": "a370a542-da71-4119-aa8b-3901c1eda4aa",
   "metadata": {},
   "outputs": [
    {
     "name": "stdout",
     "output_type": "stream",
     "text": [
      "length: 1746, missing coastal info: 0.045819014891179836)\n",
      "length: 1720, missing coastal info: 0.04825581395348837)\n"
     ]
    }
   ],
   "source": [
    "for df in [lead, trail]:\n",
    "    print(f\"length: {len(df)}, missing coastal info: {(df.ocean_continent == 'NA-NA').mean()})\")"
   ]
  },
  {
   "cell_type": "code",
   "execution_count": 164,
   "id": "2d6fbfde-bbd4-4801-86dd-e1eb2a15be7f",
   "metadata": {},
   "outputs": [],
   "source": [
    "lead = lead.loc[lead.ocean_continent != 'NA-NA'].reset_index(drop = True)\n",
    "trail = trail.loc[trail.ocean_continent != 'NA-NA'].reset_index(drop = True)"
   ]
  },
  {
   "cell_type": "code",
   "execution_count": 165,
   "id": "d7cc9f4f-3255-472c-88fe-3de7e9eb16af",
   "metadata": {},
   "outputs": [
    {
     "data": {
      "text/html": [
       "<div>\n",
       "<style scoped>\n",
       "    .dataframe tbody tr th:only-of-type {\n",
       "        vertical-align: middle;\n",
       "    }\n",
       "\n",
       "    .dataframe tbody tr th {\n",
       "        vertical-align: top;\n",
       "    }\n",
       "\n",
       "    .dataframe thead th {\n",
       "        text-align: right;\n",
       "    }\n",
       "</style>\n",
       "<table border=\"1\" class=\"dataframe\">\n",
       "  <thead>\n",
       "    <tr style=\"text-align: right;\">\n",
       "      <th></th>\n",
       "      <th>accepted_name</th>\n",
       "      <th>ocean_continent</th>\n",
       "      <th>survey</th>\n",
       "      <th>season</th>\n",
       "      <th>start_year</th>\n",
       "      <th>end_year</th>\n",
       "      <th>edge</th>\n",
       "      <th>slope</th>\n",
       "      <th>intercept</th>\n",
       "      <th>estimated_2019</th>\n",
       "      <th>most_recent</th>\n",
       "    </tr>\n",
       "  </thead>\n",
       "  <tbody>\n",
       "    <tr>\n",
       "      <th>0</th>\n",
       "      <td>Acantholabrus palloni</td>\n",
       "      <td>Atlantic Ocean-Europe</td>\n",
       "      <td>PT-IBTS</td>\n",
       "      <td>NaN</td>\n",
       "      <td>2005</td>\n",
       "      <td>2017</td>\n",
       "      <td>Leading Edge</td>\n",
       "      <td>0.009666</td>\n",
       "      <td>21.856607</td>\n",
       "      <td>41.371393</td>\n",
       "      <td>41.352062</td>\n",
       "    </tr>\n",
       "    <tr>\n",
       "      <th>1</th>\n",
       "      <td>Aetobatus narinari</td>\n",
       "      <td>Atlantic Ocean-North America</td>\n",
       "      <td>SEUS</td>\n",
       "      <td>FALL</td>\n",
       "      <td>1998</td>\n",
       "      <td>2018</td>\n",
       "      <td>Leading Edge</td>\n",
       "      <td>0.030151</td>\n",
       "      <td>-28.391677</td>\n",
       "      <td>32.483915</td>\n",
       "      <td>32.453764</td>\n",
       "    </tr>\n",
       "    <tr>\n",
       "      <th>2</th>\n",
       "      <td>Agonus cataphractus</td>\n",
       "      <td>Atlantic Ocean-Europe</td>\n",
       "      <td>BITS</td>\n",
       "      <td>NaN</td>\n",
       "      <td>1999</td>\n",
       "      <td>2020</td>\n",
       "      <td>Leading Edge</td>\n",
       "      <td>0.001674</td>\n",
       "      <td>53.870487</td>\n",
       "      <td>57.251258</td>\n",
       "      <td>57.252932</td>\n",
       "    </tr>\n",
       "    <tr>\n",
       "      <th>3</th>\n",
       "      <td>Agonus cataphractus</td>\n",
       "      <td>Atlantic Ocean-Europe</td>\n",
       "      <td>FR-CGFS</td>\n",
       "      <td>NaN</td>\n",
       "      <td>1998</td>\n",
       "      <td>2020</td>\n",
       "      <td>Leading Edge</td>\n",
       "      <td>0.002496</td>\n",
       "      <td>45.939992</td>\n",
       "      <td>50.980357</td>\n",
       "      <td>50.982853</td>\n",
       "    </tr>\n",
       "    <tr>\n",
       "      <th>4</th>\n",
       "      <td>Agonus cataphractus</td>\n",
       "      <td>Atlantic Ocean-Europe</td>\n",
       "      <td>IE-IGFS</td>\n",
       "      <td>NaN</td>\n",
       "      <td>2003</td>\n",
       "      <td>2019</td>\n",
       "      <td>Leading Edge</td>\n",
       "      <td>0.042313</td>\n",
       "      <td>-29.421084</td>\n",
       "      <td>56.009502</td>\n",
       "      <td>56.009502</td>\n",
       "    </tr>\n",
       "  </tbody>\n",
       "</table>\n",
       "</div>"
      ],
      "text/plain": [
       "           accepted_name               ocean_continent   survey season  \\\n",
       "0  Acantholabrus palloni         Atlantic Ocean-Europe  PT-IBTS    NaN   \n",
       "1     Aetobatus narinari  Atlantic Ocean-North America     SEUS   FALL   \n",
       "2    Agonus cataphractus         Atlantic Ocean-Europe     BITS    NaN   \n",
       "3    Agonus cataphractus         Atlantic Ocean-Europe  FR-CGFS    NaN   \n",
       "4    Agonus cataphractus         Atlantic Ocean-Europe  IE-IGFS    NaN   \n",
       "\n",
       "   start_year  end_year          edge     slope  intercept  estimated_2019  \\\n",
       "0        2005      2017  Leading Edge  0.009666  21.856607       41.371393   \n",
       "1        1998      2018  Leading Edge  0.030151 -28.391677       32.483915   \n",
       "2        1999      2020  Leading Edge  0.001674  53.870487       57.251258   \n",
       "3        1998      2020  Leading Edge  0.002496  45.939992       50.980357   \n",
       "4        2003      2019  Leading Edge  0.042313 -29.421084       56.009502   \n",
       "\n",
       "   most_recent  \n",
       "0    41.352062  \n",
       "1    32.453764  \n",
       "2    57.252932  \n",
       "3    50.982853  \n",
       "4    56.009502  "
      ]
     },
     "execution_count": 165,
     "metadata": {},
     "output_type": "execute_result"
    }
   ],
   "source": [
    "lead.head()"
   ]
  },
  {
   "cell_type": "code",
   "execution_count": 166,
   "id": "181e9011-0b45-470b-ad2d-76ebec0d69bb",
   "metadata": {},
   "outputs": [],
   "source": [
    "# only keep the highest predicted latitude on a given coast for the leaders\n",
    "grouped_lead = lead.groupby(by = ['accepted_name', 'ocean_continent']).estimated_2019.max()\n",
    "\n",
    "# only keep lowest predicted latitude on a given coast for the trailers\n",
    "grouped_trail = trail.groupby(by = ['accepted_name', 'ocean_continent']).estimated_2019.min()"
   ]
  },
  {
   "cell_type": "code",
   "execution_count": 167,
   "id": "31974dd4-9105-48e6-8f95-a98522496ed4",
   "metadata": {},
   "outputs": [],
   "source": [
    "keep = []\n",
    "for i in range(len(lead)):\n",
    "    name = lead.accepted_name.loc[i]\n",
    "    coast = lead.ocean_continent.loc[i]\n",
    "    if lead.estimated_2019.loc[i] == grouped_lead.loc[(name, coast)]:\n",
    "        keep.append(i)\n",
    "lead = lead.loc[keep].reset_index(drop = True)"
   ]
  },
  {
   "cell_type": "code",
   "execution_count": 168,
   "id": "ace69808-d024-4730-b77c-a5fb4c4da75d",
   "metadata": {},
   "outputs": [],
   "source": [
    "keep = []\n",
    "for i in range(len(trail)):\n",
    "    name = trail.accepted_name.loc[i]\n",
    "    coast = trail.ocean_continent.loc[i]\n",
    "    if trail.estimated_2019.loc[i] == grouped_trail.loc[(name, coast)]:\n",
    "        keep.append(i)\n",
    "trail = trail.loc[keep].reset_index(drop = True)"
   ]
  },
  {
   "cell_type": "markdown",
   "id": "bd7e1ef3-9ca5-432e-ac6c-002dcc6ccd11",
   "metadata": {},
   "source": [
    "# Preparing shape file"
   ]
  },
  {
   "cell_type": "code",
   "execution_count": 169,
   "id": "1821cd73-eb76-4d0b-be40-a6e3963ac7ff",
   "metadata": {},
   "outputs": [
    {
     "data": {
      "text/plain": [
       "'import requests\\nimport zipfile\\nimport io\\nimport os\\n\\n# URL of the ZIP file\\nzip_url = \"https://github.com/AquaAuma/TrawlSurveyMetadata/archive/refs/heads/master.zip\"\\n\\n# Directory to extract the files\\nextract_dir = \"metadata_files\"\\n\\n# Create the directory if it doesn\\'t exist\\nos.makedirs(extract_dir, exist_ok=True)\\n\\n# Download the ZIP file\\nresponse = requests.get(zip_url)\\n\\n# Check if download was successful\\nif response.status_code == 200:\\n    # Open the ZIP file\\n    with zipfile.ZipFile(io.BytesIO(response.content)) as zip_ref:\\n        # Extract all contents\\n        zip_ref.extractall(extract_dir)\\n    print(\"Files downloaded and extracted successfully!\")\\nelse:\\n    print(\"Failed to download the ZIP file.\")'"
      ]
     },
     "execution_count": 169,
     "metadata": {},
     "output_type": "execute_result"
    }
   ],
   "source": [
    "'''import requests\n",
    "import zipfile\n",
    "import io\n",
    "import os\n",
    "\n",
    "# URL of the ZIP file\n",
    "zip_url = \"https://github.com/AquaAuma/TrawlSurveyMetadata/archive/refs/heads/master.zip\"\n",
    "\n",
    "# Directory to extract the files\n",
    "extract_dir = \"metadata_files\"\n",
    "\n",
    "# Create the directory if it doesn't exist\n",
    "os.makedirs(extract_dir, exist_ok=True)\n",
    "\n",
    "# Download the ZIP file\n",
    "response = requests.get(zip_url)\n",
    "\n",
    "# Check if download was successful\n",
    "if response.status_code == 200:\n",
    "    # Open the ZIP file\n",
    "    with zipfile.ZipFile(io.BytesIO(response.content)) as zip_ref:\n",
    "        # Extract all contents\n",
    "        zip_ref.extractall(extract_dir)\n",
    "    print(\"Files downloaded and extracted successfully!\")\n",
    "else:\n",
    "    print(\"Failed to download the ZIP file.\")'''"
   ]
  },
  {
   "cell_type": "code",
   "execution_count": 170,
   "id": "dff3e263-6932-4a08-9480-0864fd83ddd0",
   "metadata": {},
   "outputs": [
    {
     "name": "stderr",
     "output_type": "stream",
     "text": [
      "/var/folders/0j/mks53s7x7j16858sp0whvcdc0000gn/T/ipykernel_62131/3489283857.py:3: SettingWithCopyWarning: \n",
      "A value is trying to be set on a copy of a slice from a DataFrame\n",
      "\n",
      "See the caveats in the documentation: https://pandas.pydata.org/pandas-docs/stable/user_guide/indexing.html#returning-a-view-versus-a-copy\n",
      "  survey_regions.Survey.loc[survey_regions.Survey == 'Gulf of Mexico'] = 'GMEX'\n",
      "/var/folders/0j/mks53s7x7j16858sp0whvcdc0000gn/T/ipykernel_62131/3489283857.py:4: SettingWithCopyWarning: \n",
      "A value is trying to be set on a copy of a slice from a DataFrame\n",
      "\n",
      "See the caveats in the documentation: https://pandas.pydata.org/pandas-docs/stable/user_guide/indexing.html#returning-a-view-versus-a-copy\n",
      "  survey_regions.Survey.loc[survey_regions.Survey == 'Northeast US'] = 'NEUS'\n",
      "/var/folders/0j/mks53s7x7j16858sp0whvcdc0000gn/T/ipykernel_62131/3489283857.py:5: SettingWithCopyWarning: \n",
      "A value is trying to be set on a copy of a slice from a DataFrame\n",
      "\n",
      "See the caveats in the documentation: https://pandas.pydata.org/pandas-docs/stable/user_guide/indexing.html#returning-a-view-versus-a-copy\n",
      "  survey_regions.Survey.loc[survey_regions.Survey == 'Scotian Shelf'] = 'SCS'\n",
      "/var/folders/0j/mks53s7x7j16858sp0whvcdc0000gn/T/ipykernel_62131/3489283857.py:6: SettingWithCopyWarning: \n",
      "A value is trying to be set on a copy of a slice from a DataFrame\n",
      "\n",
      "See the caveats in the documentation: https://pandas.pydata.org/pandas-docs/stable/user_guide/indexing.html#returning-a-view-versus-a-copy\n",
      "  survey_regions.Survey.loc[survey_regions.Survey == 'Southeast US'] = 'SEUS'\n"
     ]
    }
   ],
   "source": [
    "# Read the shapefile into a GeoDataFrame\n",
    "survey_regions = gpd.read_file('metadata/Metadata_18062020.shp')\n",
    "survey_regions.Survey.loc[survey_regions.Survey == 'Gulf of Mexico'] = 'GMEX'\n",
    "survey_regions.Survey.loc[survey_regions.Survey == 'Northeast US'] = 'NEUS'\n",
    "survey_regions.Survey.loc[survey_regions.Survey == 'Scotian Shelf'] = 'SCS'\n",
    "survey_regions.Survey.loc[survey_regions.Survey == 'Southeast US'] = 'SEUS'"
   ]
  },
  {
   "cell_type": "code",
   "execution_count": 171,
   "id": "2e6f4cee-2036-4e35-84c5-b623b4a19047",
   "metadata": {},
   "outputs": [],
   "source": [
    "from shapely.geometry import Polygon, MultiPolygon\n",
    "\n",
    "def check_overlap(poly1, poly2):\n",
    "    \"\"\"\n",
    "    Check if two polygons or multipolygons overlap.\n",
    "\n",
    "    Args:\n",
    "    poly1 (Polygon or MultiPolygon): First polygon or multipolygon.\n",
    "    poly2 (Polygon or MultiPolygon): Second polygon or multipolygon.\n",
    "\n",
    "    Returns:\n",
    "    bool: True if poly1 overlaps with poly2, False otherwise.\n",
    "    \"\"\"\n",
    "    # Convert polygons to MultiPolygon if they are not already\n",
    "    if not isinstance(poly1, MultiPolygon):\n",
    "        poly1 = MultiPolygon([poly1])\n",
    "    if not isinstance(poly2, MultiPolygon):\n",
    "        poly2 = MultiPolygon([poly2])\n",
    "    \n",
    "    # Check if there is any intersection between the polygons\n",
    "    return poly1.intersects(poly2)\n",
    "\n",
    "# Example usage:\n",
    "# overlap = check_overlap(polygon1, polygon2)\n",
    "# print(overlap)"
   ]
  },
  {
   "cell_type": "code",
   "execution_count": 172,
   "id": "c91098f5-2fec-44ed-9467-fb624c393110",
   "metadata": {},
   "outputs": [],
   "source": [
    "gdf = gpd.read_file('/Users/jameswagner/Dropbox/Mac/Desktop/Fish Ranges/MEOW/meow_ecos.shp')"
   ]
  },
  {
   "cell_type": "code",
   "execution_count": 173,
   "id": "ff374408-1e7b-481d-a45a-f461f8a6eb9b",
   "metadata": {},
   "outputs": [],
   "source": [
    "# defining north-american ecoregion id's in an np array\n",
    "atlantic_namer = [63, 42, 62, 38, 39, 40, 41, 42, 5, 6, 7]\n",
    "# gulf of mexico: 69, 43, 70\n",
    "# caribbearn: 67, 68, 65, 64\n",
    "\n",
    "atlantic_euro = [27, 26, 25, 24, 21, 22, 23]\n",
    "# iceland: 20, 2\n",
    "# mediterranean: 30, 31, 32, 33, 34, 35, 36\n",
    "\n",
    "\n",
    "pacific_namer = [170, 168, 167, 166, 164,\n",
    "                60, 61, 59, 58, 57, 56, 55, 54]\n",
    "# Clipperton: 165\n",
    "# Cocos Islands: 169\n",
    "# Aleutian Islands: 53\n",
    "# bearing sea: 14"
   ]
  },
  {
   "cell_type": "code",
   "execution_count": 174,
   "id": "dc1f340b-eb75-4270-8dc6-00cf7c4061bc",
   "metadata": {},
   "outputs": [
    {
     "data": {
      "text/html": [
       "<div>\n",
       "<style scoped>\n",
       "    .dataframe tbody tr th:only-of-type {\n",
       "        vertical-align: middle;\n",
       "    }\n",
       "\n",
       "    .dataframe tbody tr th {\n",
       "        vertical-align: top;\n",
       "    }\n",
       "\n",
       "    .dataframe thead th {\n",
       "        text-align: right;\n",
       "    }\n",
       "</style>\n",
       "<table border=\"1\" class=\"dataframe\">\n",
       "  <thead>\n",
       "    <tr style=\"text-align: right;\">\n",
       "      <th></th>\n",
       "      <th>ECO_CODE</th>\n",
       "      <th>ECOREGION</th>\n",
       "      <th>PROV_CODE</th>\n",
       "      <th>PROVINCE</th>\n",
       "      <th>RLM_CODE</th>\n",
       "      <th>REALM</th>\n",
       "      <th>ALT_CODE</th>\n",
       "      <th>ECO_CODE_X</th>\n",
       "      <th>Lat_Zone</th>\n",
       "      <th>geometry</th>\n",
       "    </tr>\n",
       "  </thead>\n",
       "  <tbody>\n",
       "    <tr>\n",
       "      <th>13</th>\n",
       "      <td>20029.0</td>\n",
       "      <td>Azores Canaries Madeira</td>\n",
       "      <td>3.0</td>\n",
       "      <td>Lusitanian</td>\n",
       "      <td>2.0</td>\n",
       "      <td>Temperate Northern Atlantic</td>\n",
       "      <td>36.0</td>\n",
       "      <td>29.0</td>\n",
       "      <td>Temperate</td>\n",
       "      <td>MULTIPOLYGON (((-16.39408 26.37686, -19.20883 ...</td>\n",
       "    </tr>\n",
       "  </tbody>\n",
       "</table>\n",
       "</div>"
      ],
      "text/plain": [
       "    ECO_CODE                ECOREGION  PROV_CODE    PROVINCE  RLM_CODE  \\\n",
       "13   20029.0  Azores Canaries Madeira        3.0  Lusitanian       2.0   \n",
       "\n",
       "                          REALM  ALT_CODE  ECO_CODE_X   Lat_Zone  \\\n",
       "13  Temperate Northern Atlantic      36.0        29.0  Temperate   \n",
       "\n",
       "                                             geometry  \n",
       "13  MULTIPOLYGON (((-16.39408 26.37686, -19.20883 ...  "
      ]
     },
     "execution_count": 174,
     "metadata": {},
     "output_type": "execute_result"
    }
   ],
   "source": [
    "gdf.loc[gdf.ECO_CODE_X == 29]"
   ]
  },
  {
   "cell_type": "code",
   "execution_count": 175,
   "id": "6434300a-be77-4a37-82a2-1a58fbc174a8",
   "metadata": {},
   "outputs": [
    {
     "data": {
      "text/plain": [
       "Index(['ECO_CODE', 'ECOREGION', 'PROV_CODE', 'PROVINCE', 'RLM_CODE', 'REALM',\n",
       "       'ALT_CODE', 'ECO_CODE_X', 'Lat_Zone', 'geometry'],\n",
       "      dtype='object')"
      ]
     },
     "execution_count": 175,
     "metadata": {},
     "output_type": "execute_result"
    }
   ],
   "source": [
    "gdf.columns"
   ]
  },
  {
   "cell_type": "code",
   "execution_count": 176,
   "id": "f28f6df2-c298-44aa-91b6-6bd5ac8aabd2",
   "metadata": {},
   "outputs": [],
   "source": [
    "coast_labels = [None] * len(gdf)\n",
    "ecoregions = ['atl_euro', 'atl_namer', 'pac_namer']\n",
    "for i,code in enumerate(gdf.ECO_CODE_X):\n",
    "    if code in atlantic_namer:\n",
    "        coast_labels[i] = ecoregions[1]\n",
    "    elif code in pacific_namer:\n",
    "        coast_labels[i] = ecoregions[2]\n",
    "    elif code in atlantic_euro:\n",
    "        coast_labels[i] = ecoregions[0]"
   ]
  },
  {
   "cell_type": "code",
   "execution_count": 177,
   "id": "33c4a4a5-bd70-4dae-bc5d-0297935ea2d2",
   "metadata": {},
   "outputs": [],
   "source": [
    "gdf['coast'] = coast_labels"
   ]
  },
  {
   "cell_type": "code",
   "execution_count": 178,
   "id": "c203c798-26b9-4a1f-9bb9-8d276cb56c0a",
   "metadata": {},
   "outputs": [
    {
     "data": {
      "text/plain": [
       "<Geographic 2D CRS: EPSG:4326>\n",
       "Name: WGS 84\n",
       "Axis Info [ellipsoidal]:\n",
       "- Lat[north]: Geodetic latitude (degree)\n",
       "- Lon[east]: Geodetic longitude (degree)\n",
       "Area of Use:\n",
       "- name: World.\n",
       "- bounds: (-180.0, -90.0, 180.0, 90.0)\n",
       "Datum: World Geodetic System 1984 ensemble\n",
       "- Ellipsoid: WGS 84\n",
       "- Prime Meridian: Greenwich"
      ]
     },
     "execution_count": 178,
     "metadata": {},
     "output_type": "execute_result"
    }
   ],
   "source": [
    "gdf.crs"
   ]
  },
  {
   "cell_type": "code",
   "execution_count": 179,
   "id": "b28782ed-6caa-40cf-8509-d5fc20634ab1",
   "metadata": {},
   "outputs": [],
   "source": [
    "coastal_gdf = gdf.groupby('coast')\n",
    "coast_geoms = coastal_gdf['geometry'].apply(sp.unary_union)\n",
    "coast_gdf = gpd.GeoDataFrame(geometry=coast_geoms, crs=gdf.crs)"
   ]
  },
  {
   "cell_type": "code",
   "execution_count": 180,
   "id": "8012f2e4-e1f5-411e-8f85-f3f8098c77b6",
   "metadata": {},
   "outputs": [
    {
     "data": {
      "text/plain": [
       "geometry    POLYGON ((-11.89763 35.42278, -11.95614 35.546...\n",
       "Name: atl_euro, dtype: geometry"
      ]
     },
     "execution_count": 180,
     "metadata": {},
     "output_type": "execute_result"
    }
   ],
   "source": [
    "coast_gdf.loc['atl_euro']"
   ]
  },
  {
   "cell_type": "code",
   "execution_count": 181,
   "id": "efd376ad-2f0b-4d0d-8a8d-ba2c6cbfcbb0",
   "metadata": {},
   "outputs": [
    {
     "data": {
      "text/plain": [
       "<Axes: >"
      ]
     },
     "execution_count": 181,
     "metadata": {},
     "output_type": "execute_result"
    },
    {
     "data": {
      "image/png": "[encoded data removed]",
      "text/plain": [
       "<Figure size 640x480 with 1 Axes>"
      ]
     },
     "metadata": {},
     "output_type": "display_data"
    }
   ],
   "source": [
    "coast_gdf.plot()"
   ]
  },
  {
   "cell_type": "code",
   "execution_count": 182,
   "id": "baecfb58-fd53-46a8-89bd-db62d5f762d8",
   "metadata": {},
   "outputs": [
    {
     "data": {
      "text/html": [
       "<div>\n",
       "<style scoped>\n",
       "    .dataframe tbody tr th:only-of-type {\n",
       "        vertical-align: middle;\n",
       "    }\n",
       "\n",
       "    .dataframe tbody tr th {\n",
       "        vertical-align: top;\n",
       "    }\n",
       "\n",
       "    .dataframe thead th {\n",
       "        text-align: right;\n",
       "    }\n",
       "</style>\n",
       "<table border=\"1\" class=\"dataframe\">\n",
       "  <thead>\n",
       "    <tr style=\"text-align: right;\">\n",
       "      <th></th>\n",
       "      <th>geometry</th>\n",
       "    </tr>\n",
       "    <tr>\n",
       "      <th>coast</th>\n",
       "      <th></th>\n",
       "    </tr>\n",
       "  </thead>\n",
       "  <tbody>\n",
       "    <tr>\n",
       "      <th>atl_euro</th>\n",
       "      <td>POLYGON ((-11.89763 35.42278, -11.95614 35.546...</td>\n",
       "    </tr>\n",
       "    <tr>\n",
       "      <th>atl_namer</th>\n",
       "      <td>MULTIPOLYGON (((-66.14586 21.77450, -66.06586 ...</td>\n",
       "    </tr>\n",
       "    <tr>\n",
       "      <th>pac_namer</th>\n",
       "      <td>POLYGON ((-76.30694 -0.88693, -76.45799 -1.111...</td>\n",
       "    </tr>\n",
       "  </tbody>\n",
       "</table>\n",
       "</div>"
      ],
      "text/plain": [
       "                                                    geometry\n",
       "coast                                                       \n",
       "atl_euro   POLYGON ((-11.89763 35.42278, -11.95614 35.546...\n",
       "atl_namer  MULTIPOLYGON (((-66.14586 21.77450, -66.06586 ...\n",
       "pac_namer  POLYGON ((-76.30694 -0.88693, -76.45799 -1.111..."
      ]
     },
     "execution_count": 182,
     "metadata": {},
     "output_type": "execute_result"
    }
   ],
   "source": [
    "coast_gdf.head()"
   ]
  },
  {
   "cell_type": "code",
   "execution_count": 183,
   "id": "796bf9a6-cbda-4c07-91d5-71ad9423adcf",
   "metadata": {},
   "outputs": [],
   "source": [
    "# create new gdf that is the intersection of coast_gdf and the survey one"
   ]
  },
  {
   "cell_type": "code",
   "execution_count": 184,
   "id": "fb2f2762-b0f5-4586-a5ed-2516d46bf313",
   "metadata": {},
   "outputs": [],
   "source": [
    "all_surveys = pd.Series(pd.Series(list(lead.survey) + list(trail.survey)).unique())"
   ]
  },
  {
   "cell_type": "code",
   "execution_count": 185,
   "id": "eff8f150-9940-41cb-af67-5027635e391d",
   "metadata": {},
   "outputs": [
    {
     "data": {
      "text/plain": [
       "array(['PT-IBTS', 'SEUS', 'NS-IBTS', 'GOA', 'GMEX', 'WCANN', 'NEUS',\n",
       "       'GSL-S', 'SCS', 'DFO-WCVI', 'Nor-BTS', 'GSL-N', 'DFO-HS', 'BITS',\n",
       "       'EBS', 'IE-IGFS', 'EVHOE', 'AI', 'DFO-WCHG', 'SWC-IBTS', 'FR-CGFS',\n",
       "       'NIGFS', 'DFO-QCS'], dtype=object)"
      ]
     },
     "execution_count": 185,
     "metadata": {},
     "output_type": "execute_result"
    }
   ],
   "source": [
    "lead.survey.unique()"
   ]
  },
  {
   "cell_type": "code",
   "execution_count": 186,
   "id": "79d21c34-ff45-41b2-9b12-9eb2027e367f",
   "metadata": {},
   "outputs": [],
   "source": [
    "represented_regions = survey_regions.loc[survey_regions.Survey.isin(all_surveys)].reset_index(drop = True)"
   ]
  },
  {
   "cell_type": "code",
   "execution_count": 187,
   "id": "1dd16526-aa89-4696-a817-8572c02bba2c",
   "metadata": {},
   "outputs": [
    {
     "data": {
      "image/png": "[encoded data removed]",
      "text/plain": [
       "<Figure size 640x480 with 1 Axes>"
      ]
     },
     "metadata": {},
     "output_type": "display_data"
    }
   ],
   "source": [
    "import geopandas as gpd\n",
    "import matplotlib.pyplot as plt\n",
    "\n",
    "# Assuming you have GeoDataFrames `all_surveys` and `represented_regions` defined\n",
    "\n",
    "# Create a new plot\n",
    "fig, ax = plt.subplots()\n",
    "\n",
    "# Plot all_surveys with red color\n",
    "survey_regions.plot(ax=ax, color='red')\n",
    "\n",
    "# Plot represented_regions with blue color, overlaying on the same plot\n",
    "represented_regions.plot(ax=ax, color='blue')\n",
    "\n",
    "coast_gdf.plot(ax=ax, color='green')\n",
    "\n",
    "# Show the plot\n",
    "plt.show()"
   ]
  },
  {
   "cell_type": "code",
   "execution_count": 188,
   "id": "9f7e5e15-8699-407a-a55d-efeab5a0edfa",
   "metadata": {},
   "outputs": [],
   "source": [
    "p1 = represented_regions.geometry[0]\n",
    "p2 = cdf.geometry[0]"
   ]
  },
  {
   "cell_type": "markdown",
   "id": "bc42c9b2-11de-4cee-98e8-9ab15596065d",
   "metadata": {},
   "source": [
    "# assign a coast to each of the represented survey regions in the dataset (NAMER pacific, NAMER atlantic, EURO atlantic)"
   ]
  },
  {
   "cell_type": "code",
   "execution_count": 189,
   "id": "a2609399-a7cf-4aeb-95b7-7954046b180b",
   "metadata": {},
   "outputs": [],
   "source": [
    "coast_colors = ['red', 'blue', 'green']\n",
    "coasts = coast_gdf.reset_index()"
   ]
  },
  {
   "cell_type": "code",
   "execution_count": 190,
   "id": "16291ee7-1add-4b58-8293-63a4cc6757ae",
   "metadata": {},
   "outputs": [],
   "source": [
    "overlap = [False] * len(represented_regions)\n",
    "overlapping_coast = [None] * len(represented_regions)"
   ]
  },
  {
   "cell_type": "code",
   "execution_count": 191,
   "id": "71010d93-b658-461f-ab49-208003ba0f94",
   "metadata": {},
   "outputs": [
    {
     "data": {
      "text/html": [
       "<div>\n",
       "<style scoped>\n",
       "    .dataframe tbody tr th:only-of-type {\n",
       "        vertical-align: middle;\n",
       "    }\n",
       "\n",
       "    .dataframe tbody tr th {\n",
       "        vertical-align: top;\n",
       "    }\n",
       "\n",
       "    .dataframe thead th {\n",
       "        text-align: right;\n",
       "    }\n",
       "</style>\n",
       "<table border=\"1\" class=\"dataframe\">\n",
       "  <thead>\n",
       "    <tr style=\"text-align: right;\">\n",
       "      <th></th>\n",
       "      <th>coast</th>\n",
       "      <th>geometry</th>\n",
       "    </tr>\n",
       "  </thead>\n",
       "  <tbody>\n",
       "    <tr>\n",
       "      <th>0</th>\n",
       "      <td>atl_euro</td>\n",
       "      <td>POLYGON ((-11.89763 35.42278, -11.95614 35.546...</td>\n",
       "    </tr>\n",
       "    <tr>\n",
       "      <th>1</th>\n",
       "      <td>atl_namer</td>\n",
       "      <td>MULTIPOLYGON (((-66.14586 21.77450, -66.06586 ...</td>\n",
       "    </tr>\n",
       "    <tr>\n",
       "      <th>2</th>\n",
       "      <td>pac_namer</td>\n",
       "      <td>POLYGON ((-76.30694 -0.88693, -76.45799 -1.111...</td>\n",
       "    </tr>\n",
       "  </tbody>\n",
       "</table>\n",
       "</div>"
      ],
      "text/plain": [
       "       coast                                           geometry\n",
       "0   atl_euro  POLYGON ((-11.89763 35.42278, -11.95614 35.546...\n",
       "1  atl_namer  MULTIPOLYGON (((-66.14586 21.77450, -66.06586 ...\n",
       "2  pac_namer  POLYGON ((-76.30694 -0.88693, -76.45799 -1.111..."
      ]
     },
     "execution_count": 191,
     "metadata": {},
     "output_type": "execute_result"
    }
   ],
   "source": [
    "coasts"
   ]
  },
  {
   "cell_type": "code",
   "execution_count": 192,
   "id": "d370d16e-c4ba-454f-b827-d6ad32f6ce9a",
   "metadata": {},
   "outputs": [],
   "source": [
    "euro = [check_overlap(coasts.geometry[0], map) for  map in represented_regions.geometry]"
   ]
  },
  {
   "cell_type": "code",
   "execution_count": 193,
   "id": "1afb8f35-cb03-4a3e-b6cf-78f32f6616e9",
   "metadata": {},
   "outputs": [],
   "source": [
    "east_coast = [check_overlap(coasts.geometry[1], map) for  map in represented_regions.geometry]"
   ]
  },
  {
   "cell_type": "code",
   "execution_count": 194,
   "id": "a75d5f93-e50c-4bcc-8ce0-31854658c501",
   "metadata": {},
   "outputs": [],
   "source": [
    "west_coast = [check_overlap(coasts.geometry[2], map) for  map in represented_regions.geometry]"
   ]
  },
  {
   "cell_type": "code",
   "execution_count": 195,
   "id": "78e1910c-b55a-4378-9756-27bff5eae958",
   "metadata": {},
   "outputs": [],
   "source": [
    "for i in range(len(represented_regions)):\n",
    "    if euro[i]:\n",
    "        cont = 'atl_euro'\n",
    "        overlapping_coast[i] = cont\n",
    "    elif east_coast[i]:\n",
    "        cont = 'atl_namer'\n",
    "        overlapping_coast[i] = cont\n",
    "    elif west_coast[i]:\n",
    "        cont = 'pac_namer'\n",
    "        overlapping_coast[i] = cont"
   ]
  },
  {
   "cell_type": "code",
   "execution_count": 196,
   "id": "fe69bcdf-c18f-4595-be80-44125b5beb78",
   "metadata": {},
   "outputs": [
    {
     "data": {
      "text/plain": [
       "['atl_euro',\n",
       " 'atl_euro',\n",
       " 'pac_namer',\n",
       " 'pac_namer',\n",
       " 'atl_euro',\n",
       " 'atl_euro',\n",
       " 'atl_euro',\n",
       " 'atl_euro',\n",
       " 'atl_euro',\n",
       " 'atl_euro',\n",
       " None,\n",
       " 'atl_namer',\n",
       " 'atl_namer',\n",
       " 'atl_namer',\n",
       " 'pac_namer',\n",
       " 'pac_namer',\n",
       " 'pac_namer',\n",
       " None,\n",
       " 'atl_namer',\n",
       " None,\n",
       " None,\n",
       " 'pac_namer']"
      ]
     },
     "execution_count": 196,
     "metadata": {},
     "output_type": "execute_result"
    }
   ],
   "source": [
    "overlapping_coast"
   ]
  },
  {
   "cell_type": "code",
   "execution_count": 197,
   "id": "abeb540c-d1ca-42db-812e-1b93ae9d23ee",
   "metadata": {},
   "outputs": [],
   "source": [
    "represented_regions['coast'] = overlapping_coast"
   ]
  },
  {
   "cell_type": "code",
   "execution_count": 198,
   "id": "176cbac0-2c14-4cc0-982a-69211db2d3ca",
   "metadata": {},
   "outputs": [],
   "source": [
    "coastal_gdf = represented_regions.groupby('coast')\n",
    "coast_geoms = coastal_gdf['geometry'].apply(sp.unary_union)\n",
    "coast_gdf = gpd.GeoDataFrame(geometry=coast_geoms, crs=gdf.crs)"
   ]
  },
  {
   "cell_type": "code",
   "execution_count": 199,
   "id": "87f21ad1-d548-40a0-9840-3cd0f5244862",
   "metadata": {},
   "outputs": [
    {
     "data": {
      "text/plain": [
       "<Axes: >"
      ]
     },
     "execution_count": 199,
     "metadata": {},
     "output_type": "execute_result"
    },
    {
     "data": {
      "image/png": "[encoded data removed]",
      "text/plain": [
       "<Figure size 640x480 with 1 Axes>"
      ]
     },
     "metadata": {},
     "output_type": "display_data"
    }
   ],
   "source": [
    "coast_gdf.plot()"
   ]
  },
  {
   "cell_type": "markdown",
   "id": "3db73290-f125-4a3a-82b3-b0c373e010c7",
   "metadata": {},
   "source": [
    "# Prepare ECDF's for each coast in question"
   ]
  },
  {
   "cell_type": "code",
   "execution_count": 200,
   "id": "e81b43af-f14d-445f-91f1-e76930d23e1f",
   "metadata": {},
   "outputs": [],
   "source": [
    "#Atlantic Europe, Atlantic North America, Pacific North America\n",
    "ECDF = [{},{},{}]\n",
    "HD_ECDF = [{},{},{}]"
   ]
  },
  {
   "cell_type": "code",
   "execution_count": 201,
   "id": "d243694d-e726-4abf-a8e3-e8a447492e28",
   "metadata": {},
   "outputs": [],
   "source": [
    "prob_cutoff = 0.80"
   ]
  },
  {
   "cell_type": "code",
   "execution_count": 202,
   "id": "229d5c49-7e3f-42a3-bab9-97988372a11d",
   "metadata": {},
   "outputs": [
    {
     "data": {
      "text/plain": [
       "['atl_euro', 'atl_namer', 'pac_namer']"
      ]
     },
     "execution_count": 202,
     "metadata": {},
     "output_type": "execute_result"
    }
   ],
   "source": [
    "ecoregions"
   ]
  },
  {
   "cell_type": "code",
   "execution_count": 203,
   "id": "15802413-7acd-4496-9a9e-cffa449fa286",
   "metadata": {},
   "outputs": [],
   "source": [
    "for i in range(len(f)):\n",
    "    g = f.genus.loc[i].lower()\n",
    "    s = f.species.loc[i].lower()\n",
    "    filepath = f'fish_data/{g}_{s}.csv'\n",
    "    full_map = pd.read_csv(filepath)\n",
    "\n",
    "    # subdivide into each of the three coastal regional maps\n",
    "    points = [sp.Point(lat, lon) for lon,lat in zip(full_map['Center Lat'], full_map['Center Long'])]\n",
    "    maps = []\n",
    "    for ecoreg in ecoregions:\n",
    "        maps.append(full_map.loc[coast_gdf.loc[ecoreg].geometry.contains(points)])\n",
    "        # fills the maps in the following order: Atlantic Europe, Atlantic North America, Pacific North America\n",
    "\n",
    "    # calculate north-south ecdfs for each map\n",
    "    for j,map in enumerate(maps):\n",
    "        net_density = map.groupby('Center Lat')['Overall Probability'].sum().reset_index().sort_values(by = 'Center Lat')\n",
    "        net_density['PMF'] = net_density['Overall Probability'] / net_density['Overall Probability'].sum()\n",
    "        net_density['ECDF'] = net_density['PMF'].cumsum()\n",
    "\n",
    "        ECDF[j][f.sci_name.loc[i]] = net_density[['Center Lat', 'ECDF']]\n",
    "        ECDF[j][f.sci_name.loc[i]].columns = ['latitude', 'ecdf']\n",
    "\n",
    "\n",
    "    \n",
    "    # repeat for only cells with probability higher than the specified prob_cutoff\n",
    "    hd_maps = []\n",
    "    for map in maps:\n",
    "        hd_maps.append(map.loc[map['Overall Probability'] >= prob_cutoff].reset_index(drop=True))\n",
    "\n",
    "    # calculate north-south ecdfs for each map\n",
    "    for j,map in enumerate(hd_maps):\n",
    "        net_density = map.groupby('Center Lat')['Overall Probability'].sum().reset_index().sort_values(by = 'Center Lat')\n",
    "        net_density['PMF'] = net_density['Overall Probability'] / net_density['Overall Probability'].sum()\n",
    "        net_density['ECDF'] = net_density['PMF'].cumsum()\n",
    "\n",
    "        HD_ECDF[j][f.sci_name.loc[i]] = net_density[['Center Lat', 'ECDF']]\n",
    "        HD_ECDF[j][f.sci_name.loc[i]].columns = ['latitude', 'ecdf']"
   ]
  },
  {
   "cell_type": "markdown",
   "id": "6561b0e7-58fe-4ece-9afb-ee357c8287c8",
   "metadata": {},
   "source": [
    "# Find coast-specific percentiles"
   ]
  },
  {
   "cell_type": "code",
   "execution_count": 204,
   "id": "8560f44d-f5fe-490e-89a7-e95b476c7d91",
   "metadata": {},
   "outputs": [],
   "source": [
    "ocean_continents = {'Atlantic Ocean-North America': 1, 'Atlantic Ocean-Europe': 0, 'Pacific Ocean-North America': 2}"
   ]
  },
  {
   "cell_type": "code",
   "execution_count": 205,
   "id": "fa73a322-8ac2-41f7-b181-8c0b780a146a",
   "metadata": {},
   "outputs": [],
   "source": [
    "def find_percentiles(lat, species_name, coast):\n",
    "    # lat is in degrees north\n",
    "    # species name is capital Genus lowercase species\n",
    "    # coast is an integer 0-2\n",
    "    raw_density = ECDF[coast][species_name]\n",
    "    HD_density = HD_ECDF[coast][species_name]\n",
    "    \n",
    "    # first get the raw percentiles\n",
    "    max_lat = raw_density.latitude.loc[raw_density.latitude <= lat].max()\n",
    "    raw_percentile = raw_density.ecdf.loc[raw_density.latitude == max_lat].max()\n",
    "\n",
    "    # now get the high density (prob >= 80%) percentiles\n",
    "    hd_max_lat = HD_density.latitude.loc[HD_density.latitude <= lat].max()\n",
    "    hd_percentile = HD_density.ecdf.loc[HD_density.latitude == hd_max_lat].max()\n",
    "\n",
    "    return raw_percentile, hd_percentile"
   ]
  },
  {
   "cell_type": "code",
   "execution_count": 206,
   "id": "5e5b40ff-4c91-4e53-aeab-82ad6a952c88",
   "metadata": {},
   "outputs": [],
   "source": [
    "def percentile_of_calculated_edge(edge_col, name_col, region_col, edge_df):\n",
    "    # edge_col is the string form of the column label which contains a float latitude in degrees north\n",
    "    # name_col is the string form of the column label which contains the string species name\n",
    "    # region_col is the string column label which contains the continent region\n",
    "    # edge_df is a dataframe of calculated range edges\n",
    "    raws = []\n",
    "    hds = []\n",
    "\n",
    "    for name,edge,coast in zip(edge_df[name_col], edge_df[edge_col], edge_df[region_col]):\n",
    "        coastal_region = ocean_continents[coast]\n",
    "        r,h = find_percentiles(edge, name, coastal_region)\n",
    "        raws.append(r)\n",
    "        hds.append(h)\n",
    "\n",
    "    return [raws, hds]"
   ]
  },
  {
   "cell_type": "code",
   "execution_count": 207,
   "id": "a1f30760-063c-4c86-add9-bffd169594f0",
   "metadata": {},
   "outputs": [],
   "source": [
    "trail_percentiles = percentile_of_calculated_edge('estimated_2019', 'accepted_name', 'ocean_continent', trail)\n",
    "lead_percentiles = percentile_of_calculated_edge('estimated_2019', 'accepted_name', 'ocean_continent', lead)"
   ]
  },
  {
   "cell_type": "code",
   "execution_count": 208,
   "id": "ebf53faf-1610-4174-95c6-d503c40f7fe3",
   "metadata": {},
   "outputs": [],
   "source": [
    "trail['raw_percentile'] = trail_percentiles[0]\n",
    "trail['hd_percentile'] = trail_percentiles[1]"
   ]
  },
  {
   "cell_type": "code",
   "execution_count": 209,
   "id": "a52475a7-511c-47f3-92a8-459078671411",
   "metadata": {},
   "outputs": [],
   "source": [
    "lead['raw_percentile'] = lead_percentiles[0]\n",
    "lead['hd_percentile'] = lead_percentiles[1]"
   ]
  },
  {
   "cell_type": "markdown",
   "id": "40013977-bc03-4253-8008-3f06be1ff8c9",
   "metadata": {},
   "source": [
    "# Verification"
   ]
  },
  {
   "cell_type": "code",
   "execution_count": 210,
   "id": "771ecfd2-cd72-4b78-85c9-7567bc125c67",
   "metadata": {},
   "outputs": [],
   "source": [
    "import matplotlib.pyplot as plt\n",
    "import seaborn as sns"
   ]
  },
  {
   "cell_type": "code",
   "execution_count": 211,
   "id": "f1a75881-3d8b-4ea1-977b-68bf0b6263d7",
   "metadata": {},
   "outputs": [
    {
     "data": {
      "text/plain": [
       "(array([ 12.,  17.,  11.,  12.,  21.,  17.,  29.,  45.,  71., 296.]),\n",
       " array([0.02392599, 0.12153339, 0.21914079, 0.31674819, 0.41435559,\n",
       "        0.51196299, 0.6095704 , 0.7071778 , 0.8047852 , 0.9023926 ,\n",
       "        1.        ]),\n",
       " <BarContainer object of 10 artists>)"
      ]
     },
     "execution_count": 211,
     "metadata": {},
     "output_type": "execute_result"
    },
    {
     "data": {
      "image/png": "[encoded data removed]",
      "text/plain": [
       "<Figure size 640x480 with 1 Axes>"
      ]
     },
     "metadata": {},
     "output_type": "display_data"
    }
   ],
   "source": [
    "plt.hist(lead.hd_percentile)"
   ]
  },
  {
   "cell_type": "code",
   "execution_count": 212,
   "id": "0fc28b0e-09bd-4858-ac3e-cfaf232a3bc1",
   "metadata": {},
   "outputs": [
    {
     "data": {
      "text/plain": [
       "(array([145.,  60.,  33.,  24.,  19.,  12.,   6.,   5.,   2.,  16.]),\n",
       " array([0.00198851, 0.10178966, 0.20159081, 0.30139195, 0.4011931 ,\n",
       "        0.50099425, 0.6007954 , 0.70059655, 0.8003977 , 0.90019885,\n",
       "        1.        ]),\n",
       " <BarContainer object of 10 artists>)"
      ]
     },
     "execution_count": 212,
     "metadata": {},
     "output_type": "execute_result"
    },
    {
     "data": {
      "image/png": "[encoded data removed]",
      "text/plain": [
       "<Figure size 640x480 with 1 Axes>"
      ]
     },
     "metadata": {},
     "output_type": "display_data"
    }
   ],
   "source": [
    "plt.hist(trail.hd_percentile)"
   ]
  },
  {
   "cell_type": "code",
   "execution_count": 213,
   "id": "e87ab909-a0e8-4eb6-ba22-1336f916c5ef",
   "metadata": {},
   "outputs": [
    {
     "data": {
      "text/plain": [
       "(array([ 19.,  24.,  24.,  20.,  27.,  31.,  36.,  43.,  69., 254.]),\n",
       " array([0.00492914, 0.10443623, 0.20394331, 0.3034504 , 0.40295749,\n",
       "        0.50246457, 0.60197166, 0.70147874, 0.80098583, 0.90049291,\n",
       "        1.        ]),\n",
       " <BarContainer object of 10 artists>)"
      ]
     },
     "execution_count": 213,
     "metadata": {},
     "output_type": "execute_result"
    },
    {
     "data": {
      "image/png": "[encoded data removed]",
      "text/plain": [
       "<Figure size 640x480 with 1 Axes>"
      ]
     },
     "metadata": {},
     "output_type": "display_data"
    }
   ],
   "source": [
    "plt.hist(lead.raw_percentile)"
   ]
  },
  {
   "cell_type": "code",
   "execution_count": 214,
   "id": "c6f86af6-b17d-4d84-8947-557d27b712bd",
   "metadata": {},
   "outputs": [
    {
     "data": {
      "text/plain": [
       "(array([201.,  74.,  33.,  21.,  22.,  10.,  12.,   6.,   1.,  25.]),\n",
       " array([6.58197854e-05, 1.00059238e-01, 2.00052656e-01, 3.00046074e-01,\n",
       "        4.00039492e-01, 5.00032910e-01, 6.00026328e-01, 7.00019746e-01,\n",
       "        8.00013164e-01, 9.00006582e-01, 1.00000000e+00]),\n",
       " <BarContainer object of 10 artists>)"
      ]
     },
     "execution_count": 214,
     "metadata": {},
     "output_type": "execute_result"
    },
    {
     "data": {
      "image/png": "[encoded data removed]",
      "text/plain": [
       "<Figure size 640x480 with 1 Axes>"
      ]
     },
     "metadata": {},
     "output_type": "display_data"
    }
   ],
   "source": [
    "plt.hist(trail.raw_percentile)"
   ]
  },
  {
   "cell_type": "code",
   "execution_count": 215,
   "id": "3ccdadaf-2810-46bf-8727-efbdd9796adf",
   "metadata": {},
   "outputs": [],
   "source": [
    "import arviz as az\n",
    "import numpy as np"
   ]
  },
  {
   "cell_type": "code",
   "execution_count": 216,
   "id": "6766ff60-176b-46ef-87d4-89c118088f78",
   "metadata": {},
   "outputs": [
    {
     "data": {
      "text/plain": [
       "(array([0.78, 1.  ]), array([0.  , 0.15]))"
      ]
     },
     "execution_count": 216,
     "metadata": {},
     "output_type": "execute_result"
    }
   ],
   "source": [
    "az.hdi(np.array(lead.raw_percentile.dropna()), 0.60).round(2), az.hdi(np.array(trail.raw_percentile.dropna()), 0.60).round(2)"
   ]
  },
  {
   "cell_type": "code",
   "execution_count": 217,
   "id": "178282d1-95d1-408e-8303-527e31076d6d",
   "metadata": {},
   "outputs": [
    {
     "data": {
      "text/plain": [
       "(array([0.87, 1.  ]), array([0.  , 0.18]))"
      ]
     },
     "execution_count": 217,
     "metadata": {},
     "output_type": "execute_result"
    }
   ],
   "source": [
    "az.hdi(np.array(lead.hd_percentile.dropna()), 0.60).round(2), az.hdi(np.array(trail.hd_percentile.dropna()), 0.60).round(2)"
   ]
  }
 ],
 "metadata": {
  "kernelspec": {
   "display_name": "Python 3 (ipykernel)",
   "language": "python",
   "name": "python3"
  },
  "language_info": {
   "codemirror_mode": {
    "name": "ipython",
    "version": 3
   },
   "file_extension": ".py",
   "mimetype": "text/x-python",
   "name": "python",
   "nbconvert_exporter": "python",
   "pygments_lexer": "ipython3",
   "version": "3.11.7"
  }
 },
 "nbformat": 4,
 "nbformat_minor": 5
}
